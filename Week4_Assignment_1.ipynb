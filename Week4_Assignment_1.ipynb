{
 "cells": [
  {
   "cell_type": "markdown",
   "id": "22c4f723-81ee-4e49-a1aa-3bfe8196c68d",
   "metadata": {},
   "source": [
    "## Q1, Create a vehicle class with an init method having instance variables as name_of_vehicle, max_speed and average_of_vehicle."
   ]
  },
  {
   "cell_type": "code",
   "execution_count": 1,
   "id": "430ae313-5c59-4f7a-a50c-97b32af19e5f",
   "metadata": {},
   "outputs": [],
   "source": [
    "class vehicle:\n",
    "    \n",
    "    def __init__(self, name_of_vehicle, max_speed, average_of_vehicle):\n",
    "        self.name_of_vehicle = name_of_vehicle\n",
    "        self.max_speed = max_speed\n",
    "        self.average_of_vehicle = average_of_vehicle\n",
    "        \n",
    "    def return_vehicle_details(self):\n",
    "        return self.name_of_vehicle, self.average_of_vehicle, self.max_speed"
   ]
  },
  {
   "cell_type": "code",
   "execution_count": 2,
   "id": "22dc7aae-47c7-45ff-8278-7b294d80a36f",
   "metadata": {},
   "outputs": [],
   "source": [
    "car = vehicle(\"Mahindra Thar\", 155, 15)"
   ]
  },
  {
   "cell_type": "code",
   "execution_count": 3,
   "id": "f831e117-06be-491a-a504-2d4422838e4b",
   "metadata": {},
   "outputs": [
    {
     "data": {
      "text/plain": [
       "('Mahindra Thar', 15, 155)"
      ]
     },
     "execution_count": 3,
     "metadata": {},
     "output_type": "execute_result"
    }
   ],
   "source": [
    "car.return_vehicle_details()"
   ]
  },
  {
   "cell_type": "code",
   "execution_count": 4,
   "id": "5aa81910-6c26-46ea-99ec-4de7343d34a4",
   "metadata": {},
   "outputs": [],
   "source": [
    "scooter = vehicle(\"Honda Activa 6G\", 85, 45)"
   ]
  },
  {
   "cell_type": "code",
   "execution_count": 5,
   "id": "f47cf06b-f89f-4556-8282-27327e59dc80",
   "metadata": {},
   "outputs": [
    {
     "data": {
      "text/plain": [
       "('Honda Activa 6G', 45, 85)"
      ]
     },
     "execution_count": 5,
     "metadata": {},
     "output_type": "execute_result"
    }
   ],
   "source": [
    "scooter.return_vehicle_details()"
   ]
  },
  {
   "cell_type": "markdown",
   "id": "8b2850c5-0019-41a4-9002-8dd2e45d61bb",
   "metadata": {},
   "source": [
    "## Q2.  Create a child class car from the vehicle class created in Que 1, which will inherit the vehicle class. Create a method named seating_capacity which takes capacity as an argument and returns the name of the vehicle and its seating capacity. "
   ]
  },
  {
   "cell_type": "code",
   "execution_count": 6,
   "id": "6148d697-85f1-4487-bf4c-3ee0d31d794b",
   "metadata": {},
   "outputs": [],
   "source": [
    "class car(vehicle):\n",
    "    def seating_capacity(self, capacity):\n",
    "        return f\"The {self.name_of_vehicle} has a seating capacity of {capacity}.\""
   ]
  },
  {
   "cell_type": "code",
   "execution_count": 7,
   "id": "3da78624-a357-4278-9846-d610642b7d71",
   "metadata": {},
   "outputs": [],
   "source": [
    "obj_car = car(\"Mahindra Thar\", 155, 15) "
   ]
  },
  {
   "cell_type": "code",
   "execution_count": 8,
   "id": "8a3e6ad4-6d06-41fc-a7eb-2c59925a4b62",
   "metadata": {},
   "outputs": [
    {
     "data": {
      "text/plain": [
       "'The Mahindra Thar has a seating capacity of 4.'"
      ]
     },
     "execution_count": 8,
     "metadata": {},
     "output_type": "execute_result"
    }
   ],
   "source": [
    "obj_car.seating_capacity(4)"
   ]
  },
  {
   "cell_type": "markdown",
   "id": "896d5d71-c45c-44b4-afcc-dac726fff499",
   "metadata": {},
   "source": [
    "## Q3. What is multiple inheritance? Write a python code to demonstrate multiple inheritance"
   ]
  },
  {
   "cell_type": "code",
   "execution_count": 1,
   "id": "c4dafd04-ebf3-418e-bfff-5efe50a89b8f",
   "metadata": {},
   "outputs": [],
   "source": [
    "## Multiple inheritance allows a class to inherit from more than one parent class."
   ]
  },
  {
   "cell_type": "code",
   "execution_count": 2,
   "id": "b6429b21-8098-4906-b147-c03a845f15a2",
   "metadata": {},
   "outputs": [],
   "source": [
    "class dad:\n",
    "    def test_dad(self):\n",
    "        return \"Eyes are similar to Dad\""
   ]
  },
  {
   "cell_type": "code",
   "execution_count": 3,
   "id": "0111c054-104e-408e-bc79-caaaf35fc24d",
   "metadata": {},
   "outputs": [],
   "source": [
    "class mom:\n",
    "    def test_mom(self):\n",
    "        return \"Nose is similar to Mom\""
   ]
  },
  {
   "cell_type": "code",
   "execution_count": 4,
   "id": "f1e9d53e-9cdc-43a1-bfb0-4a81dd70df65",
   "metadata": {},
   "outputs": [],
   "source": [
    "class child(dad,mom):\n",
    "    pass"
   ]
  },
  {
   "cell_type": "code",
   "execution_count": 5,
   "id": "d8cddba6-39f3-498f-81a8-e161a9451c6d",
   "metadata": {},
   "outputs": [],
   "source": [
    "child_obj = child()"
   ]
  },
  {
   "cell_type": "code",
   "execution_count": 6,
   "id": "e4bd04cf-21bc-403c-ad67-a8129b36ebf0",
   "metadata": {},
   "outputs": [
    {
     "data": {
      "text/plain": [
       "'Eyes are similar to Dad'"
      ]
     },
     "execution_count": 6,
     "metadata": {},
     "output_type": "execute_result"
    }
   ],
   "source": [
    "child_obj.test_dad()"
   ]
  },
  {
   "cell_type": "code",
   "execution_count": 7,
   "id": "26bd28e3-c0e6-4ac0-b66d-6e7ec78d0e71",
   "metadata": {},
   "outputs": [
    {
     "data": {
      "text/plain": [
       "'Nose is similar to Mom'"
      ]
     },
     "execution_count": 7,
     "metadata": {},
     "output_type": "execute_result"
    }
   ],
   "source": [
    "child_obj.test_mom()"
   ]
  },
  {
   "cell_type": "markdown",
   "id": "afbb349e-f7a7-4e22-9062-d4d7cd8289af",
   "metadata": {},
   "source": [
    "## Q4. What are getter and setter in python? Create a class and create a getter and a setter method in this class."
   ]
  },
  {
   "cell_type": "code",
   "execution_count": 1,
   "id": "9512fc6a-4c42-4ffc-ba9f-2f0acb2b976b",
   "metadata": {},
   "outputs": [],
   "source": [
    "# 'getter' and 'setter' methods are used to give access to private variables.\n",
    "# 'getter' allows to retrieve the value of private variable.\n",
    "# 'setter' allows to modify the value of private variable."
   ]
  },
  {
   "cell_type": "code",
   "execution_count": 2,
   "id": "b567fff8-354a-44ed-bae4-7ce2eb96e9eb",
   "metadata": {},
   "outputs": [],
   "source": [
    "class vehicle:\n",
    "    \n",
    "    def __init__(self, name_of_vehicle, max_speed, average_of_vehicle):\n",
    "        self.name_of_vehicle = name_of_vehicle\n",
    "        self.max_speed = max_speed\n",
    "        self.__average_of_vehicle = average_of_vehicle\n",
    "        \n",
    "    @property\n",
    "    def average_access(self):\n",
    "        return self.__average_of_vehicle\n",
    "    \n",
    "    @average_access.setter\n",
    "    def avg_set(self,average):\n",
    "        if average <= 12:\n",
    "            pass\n",
    "        else:\n",
    "            self.__average_of_vehicle = average\n",
    "            \n",
    "    @average_access.getter\n",
    "    def get_average_of_vehicle(self):\n",
    "        return self.__average_of_vehicle"
   ]
  },
  {
   "cell_type": "code",
   "execution_count": 3,
   "id": "3c1f6067-535b-4bad-ba9b-230257fae9ef",
   "metadata": {},
   "outputs": [],
   "source": [
    "car = vehicle(\"Mahindra Thar\", 155, 15)"
   ]
  },
  {
   "cell_type": "code",
   "execution_count": 4,
   "id": "a6147a31-2467-4f2b-905e-319259e7c267",
   "metadata": {},
   "outputs": [
    {
     "data": {
      "text/plain": [
       "15"
      ]
     },
     "execution_count": 4,
     "metadata": {},
     "output_type": "execute_result"
    }
   ],
   "source": [
    "car.average_access"
   ]
  },
  {
   "cell_type": "code",
   "execution_count": 5,
   "id": "2ad2f00a-292e-4aaa-acd7-78f75adbcf52",
   "metadata": {},
   "outputs": [],
   "source": [
    "car.avg_set = 16"
   ]
  },
  {
   "cell_type": "code",
   "execution_count": 6,
   "id": "c313d419-bca6-48d7-9e45-76f2d175c8ac",
   "metadata": {},
   "outputs": [
    {
     "data": {
      "text/plain": [
       "16"
      ]
     },
     "execution_count": 6,
     "metadata": {},
     "output_type": "execute_result"
    }
   ],
   "source": [
    "car.get_average_of_vehicle"
   ]
  },
  {
   "cell_type": "markdown",
   "id": "393b9b0c-2fce-4151-b43c-ca8d12bcc930",
   "metadata": {},
   "source": [
    "## Q5.What is method overriding in python? Write a python code to demonstrate method overriding."
   ]
  },
  {
   "cell_type": "code",
   "execution_count": 1,
   "id": "9a6d9a98-5da7-48e0-96a0-8b3318276850",
   "metadata": {},
   "outputs": [],
   "source": [
    "# Method overriding allows subclass to provide a different implementation of a method i.e. already defined in its superclass."
   ]
  },
  {
   "cell_type": "code",
   "execution_count": 2,
   "id": "6a6cbd09-0d73-48e6-8f46-2d5afc477289",
   "metadata": {},
   "outputs": [],
   "source": [
    "class animal:\n",
    "    def eat(self):\n",
    "        print(\"Animal is eating\")\n",
    "\n",
    "class tiger(animal):\n",
    "    def eat(self):\n",
    "        print(\"Tiger is carnivorous\")\n",
    "\n",
    "class elephant(animal):\n",
    "    def eat(self):\n",
    "        print(\"Elepant is herbivores\")\n",
    "\n",
    "Animal = animal()\n",
    "Tiger = tiger()\n",
    "Elephant = elephant()"
   ]
  },
  {
   "cell_type": "code",
   "execution_count": 3,
   "id": "ddc824b0-fe72-4b1a-974e-920c23407f76",
   "metadata": {},
   "outputs": [
    {
     "name": "stdout",
     "output_type": "stream",
     "text": [
      "Animal is eating\n"
     ]
    }
   ],
   "source": [
    "Animal.eat()"
   ]
  },
  {
   "cell_type": "code",
   "execution_count": 4,
   "id": "df5c7db4-9e1e-47a7-bb56-ba58ae84ac8a",
   "metadata": {},
   "outputs": [
    {
     "name": "stdout",
     "output_type": "stream",
     "text": [
      "Tiger is carnivorous\n"
     ]
    }
   ],
   "source": [
    "Tiger.eat()"
   ]
  },
  {
   "cell_type": "code",
   "execution_count": 5,
   "id": "c96ce789-ee20-4450-be48-dc025c5b75ef",
   "metadata": {},
   "outputs": [
    {
     "name": "stdout",
     "output_type": "stream",
     "text": [
      "Elepant is herbivores\n"
     ]
    }
   ],
   "source": [
    "Elephant.eat()"
   ]
  }
 ],
 "metadata": {
  "kernelspec": {
   "display_name": "Python 3 (ipykernel)",
   "language": "python",
   "name": "python3"
  },
  "language_info": {
   "codemirror_mode": {
    "name": "ipython",
    "version": 3
   },
   "file_extension": ".py",
   "mimetype": "text/x-python",
   "name": "python",
   "nbconvert_exporter": "python",
   "pygments_lexer": "ipython3",
   "version": "3.10.8"
  }
 },
 "nbformat": 4,
 "nbformat_minor": 5
}
